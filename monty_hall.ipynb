{
 "cells": [
  {
   "cell_type": "code",
   "execution_count": 1,
   "id": "0e09750f",
   "metadata": {},
   "outputs": [],
   "source": [
    "# Plot the graphs in this notebook\n",
    "%matplotlib inline"
   ]
  },
  {
   "cell_type": "code",
   "execution_count": 18,
   "id": "92f80ea4",
   "metadata": {},
   "outputs": [],
   "source": [
    "from random import randint, seed, choice\n",
    "from enum import Enum"
   ]
  },
  {
   "cell_type": "code",
   "execution_count": 3,
   "id": "c25e9e98",
   "metadata": {},
   "outputs": [],
   "source": [
    "import matplotlib.pyplot as plt"
   ]
  },
  {
   "cell_type": "code",
   "execution_count": 4,
   "id": "65d9a223",
   "metadata": {},
   "outputs": [],
   "source": [
    "# This class describe the strategy of the player. Wether they keep or change their choice.\n",
    "class Strategy(Enum):\n",
    "    CHANGE = 1\n",
    "    KEEP = 2"
   ]
  },
  {
   "cell_type": "code",
   "execution_count": 5,
   "id": "6773b959",
   "metadata": {},
   "outputs": [],
   "source": [
    "# Initialize the random numbers generator\n",
    "seed()"
   ]
  },
  {
   "cell_type": "code",
   "execution_count": 6,
   "id": "ee7b527c",
   "metadata": {},
   "outputs": [],
   "source": [
    "def play_game(strategy):\n",
    "    \"\"\"\n",
    "    Simulates a Monty Hall game.\n",
    "    This function simulates:\n",
    "        - The first choice of the player,\n",
    "        - The elimination of a wrong choice,\n",
    "        - The second choice of the player.\n",
    "    \n",
    "    :param strategy: Keep or change\n",
    "    :return:\n",
    "        - True if the player wins the game,\n",
    "        - False otherwise.\n",
    "    \"\"\"\n",
    "    \n",
    "    \n",
    "    doors = [0, 1, 2] # All doors\n",
    "    good_choice = randint(0, 2) # The door with the prize\n",
    "    first_choice = randint(0, 2) # The first choice of the player\n",
    "    \n",
    "    # remove 2 doors; The player's choice and another door.\n",
    "    doors.remove(first_choice)\n",
    "    if first_choice == good_choice:\n",
    "        doors.remove(doors[randint(0, 1)])\n",
    "    else:\n",
    "        doors = [good_choice]\n",
    "    \n",
    "    # Select the second choice depending on the player's strategy\n",
    "    second_choice = 0\n",
    "    if strategy == Strategy.CHANGE:\n",
    "        second_choice = doors[0]\n",
    "    elif strategy == Strategy.KEEP:\n",
    "        second_choice = first_choice\n",
    "    else:\n",
    "        raise ValueError(\"Unkown strategy!\")\n",
    "        \n",
    "    return second_choice == good_choice    "
   ]
  },
  {
   "cell_type": "code",
   "execution_count": 7,
   "id": "11534ed8",
   "metadata": {},
   "outputs": [
    {
     "data": {
      "text/plain": [
       "False"
      ]
     },
     "execution_count": 7,
     "metadata": {},
     "output_type": "execute_result"
    }
   ],
   "source": [
    "play_game(Strategy.KEEP)"
   ]
  },
  {
   "cell_type": "code",
   "execution_count": 8,
   "id": "96251ed7",
   "metadata": {},
   "outputs": [
    {
     "data": {
      "text/plain": [
       "True"
      ]
     },
     "execution_count": 8,
     "metadata": {},
     "output_type": "execute_result"
    }
   ],
   "source": [
    "play_game(Strategy.CHANGE)"
   ]
  },
  {
   "cell_type": "code",
   "execution_count": 9,
   "id": "d810c26f",
   "metadata": {},
   "outputs": [],
   "source": [
    "def play(strategy, num_rounds):\n",
    "    '''\n",
    "    Simulates a series of rounds of the Monty Hall game..\n",
    "    \n",
    "    :param strategy: Keep or change.\n",
    "    :param num_rounds: numbers of rounds to play.\n",
    "        \n",
    "    Returns:\n",
    "        list: A list of 1s and 0s representing the results of the rounds (1: win, 0: loss).\n",
    "    '''\n",
    "    \n",
    "    return [1 if play_game(strategy) else 0 for i in range(num_rounds)]"
   ]
  },
  {
   "cell_type": "code",
   "execution_count": 10,
   "id": "9db4b687",
   "metadata": {},
   "outputs": [
    {
     "name": "stdout",
     "output_type": "stream",
     "text": [
      "By changing his choice, the player won the game 635 out of 1000 times.\n"
     ]
    }
   ],
   "source": [
    "print(f\"By changing his choice, the player won the game {sum(play(Strategy.CHANGE, 1000))} out of 1000 times.\")"
   ]
  },
  {
   "cell_type": "code",
   "execution_count": 11,
   "id": "ac96c824",
   "metadata": {},
   "outputs": [
    {
     "name": "stdout",
     "output_type": "stream",
     "text": [
      "By keeping her choice, the player won the game 315 out of 1000 times.\n"
     ]
    }
   ],
   "source": [
    "print(f\"By keeping her choice, the player won the game {sum(play(Strategy.KEEP, 1000))} out of 1000 times.\")"
   ]
  },
  {
   "cell_type": "code",
   "execution_count": 12,
   "id": "a41ce5f7",
   "metadata": {},
   "outputs": [
    {
     "data": {
      "image/png": "[encoded data removed]",
      "text/plain": [
       "<Figure size 432x288 with 1 Axes>"
      ]
     },
     "metadata": {
      "needs_background": "light"
     },
     "output_type": "display_data"
    }
   ],
   "source": [
    "# Plot the times the player wins when the player chooses to change his choice\n",
    "plot = plt.plot(play(Strategy.CHANGE, 20))"
   ]
  },
  {
   "cell_type": "code",
   "execution_count": 13,
   "id": "c89b95d5",
   "metadata": {},
   "outputs": [
    {
     "data": {
      "image/png": "[encoded data removed]",
      "text/plain": [
       "<Figure size 432x288 with 1 Axes>"
      ]
     },
     "metadata": {
      "needs_background": "light"
     },
     "output_type": "display_data"
    }
   ],
   "source": [
    "# Plot the times the player wins when the player chooses to keep her choice\n",
    "plot = plt.plot(play(Strategy.KEEP, 20))"
   ]
  },
  {
   "cell_type": "code",
   "execution_count": 14,
   "id": "c55d0886",
   "metadata": {},
   "outputs": [
    {
     "data": {
      "image/png": "[encoded data removed]",
      "text/plain": [
       "<Figure size 432x288 with 1 Axes>"
      ]
     },
     "metadata": {
      "needs_background": "light"
     },
     "output_type": "display_data"
    }
   ],
   "source": [
    "# Bar plot\n",
    "plot = plt.bar([1,2],\n",
    "               [\n",
    "                   sum(play(Strategy.CHANGE, 10000)),\n",
    "                   sum(play(Strategy.KEEP, 10000))\n",
    "               ], \n",
    "               tick_label=[\"Change\",\"Keep\"])"
   ]
  },
  {
   "cell_type": "markdown",
   "id": "390cecab",
   "metadata": {},
   "source": [
    "# Linear relation:\n",
    "* The following plot checks if there is a relation between the number of rounds and the the number of wins.\n"
   ]
  },
  {
   "cell_type": "code",
   "execution_count": 27,
   "id": "79be1e85",
   "metadata": {},
   "outputs": [],
   "source": [
    "gains_change = []\n",
    "gains_keep = []\n",
    "samples =  [1000, 10000, 20000, 50000, 80000, 100000]\n",
    "for rounds in samples:\n",
    "    gains_change.append(play(Strategy.CHANGE, rounds))\n",
    "    gains_keep.append(play(Strategy.KEEP, rounds))"
   ]
  },
  {
   "cell_type": "code",
   "execution_count": 28,
   "id": "b21a21e9",
   "metadata": {},
   "outputs": [
    {
     "data": {
      "image/png": "[encoded data removed]",
      "text/plain": [
       "<Figure size 432x288 with 1 Axes>"
      ]
     },
     "metadata": {
      "needs_background": "light"
     },
     "output_type": "display_data"
    }
   ],
   "source": [
    "figure = plt.figure()\n",
    "plot = plt.scatter(samples, [sum(x) for x in gains_change])\n",
    "plot = plt.scatter(samples, [sum(x) for x in gains_keep])"
   ]
  },
  {
   "cell_type": "markdown",
   "id": "3f00b533",
   "metadata": {},
   "source": [
    "## Randomly choosing a strategy"
   ]
  },
  {
   "cell_type": "code",
   "execution_count": 29,
   "id": "29029d15",
   "metadata": {},
   "outputs": [],
   "source": [
    "def play_randomly(num_rounds):\n",
    "    '''\n",
    "    Simulates a series of rounds of the Monty Hall game. \n",
    "    At each round the player chooses randomly weather to keep or change her decision.\n",
    "    \n",
    "    :param strategy: Keep or change.\n",
    "    :param num_rounds: numbers of rounds to play.\n",
    "        \n",
    "    Returns:\n",
    "        list: A list of 1s and 0s representing the results of the rounds (1: win, 0: loss).\n",
    "    '''\n",
    "    \n",
    "    return [1 if play_game(choice(list(Strategy))) else 0 for i in range(num_rounds)]"
   ]
  },
  {
   "cell_type": "code",
   "execution_count": 30,
   "id": "b5d1918d",
   "metadata": {},
   "outputs": [],
   "source": [
    "gains_random = []\n",
    "samples =  [1000, 10000, 20000, 50000, 80000, 100000]\n",
    "for rounds in samples:\n",
    "    gains_random.append(play_randomly(rounds))"
   ]
  },
  {
   "cell_type": "code",
   "execution_count": 31,
   "id": "2630cfd1",
   "metadata": {},
   "outputs": [
    {
     "data": {
      "image/png": "[encoded data removed]",
      "text/plain": [
       "<Figure size 432x288 with 1 Axes>"
      ]
     },
     "metadata": {
      "needs_background": "light"
     },
     "output_type": "display_data"
    }
   ],
   "source": [
    "figure = plt.figure()\n",
    "plot = plt.scatter(samples, [sum(x) for x in gains_change])\n",
    "plot = plt.scatter(samples, [sum(x) for x in gains_keep])\n",
    "plot = plt.scatter(samples, [sum(x) for x in gains_random])"
   ]
  },
  {
   "cell_type": "code",
   "execution_count": null,
   "id": "def967e6",
   "metadata": {},
   "outputs": [],
   "source": []
  }
 ],
 "metadata": {
  "kernelspec": {
   "display_name": "Python 3 (ipykernel)",
   "language": "python",
   "name": "python3"
  },
  "language_info": {
   "codemirror_mode": {
    "name": "ipython",
    "version": 3
   },
   "file_extension": ".py",
   "mimetype": "text/x-python",
   "name": "python",
   "nbconvert_exporter": "python",
   "pygments_lexer": "ipython3",
   "version": "3.9.7"
  }
 },
 "nbformat": 4,
 "nbformat_minor": 5
}
